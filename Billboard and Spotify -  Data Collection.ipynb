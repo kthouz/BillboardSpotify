{
 "cells": [
  {
   "cell_type": "markdown",
   "metadata": {},
   "source": [
    "Objective: Find common trends among billboard songs\n",
    "\n",
    "To do:\n",
    "\n",
    "1. Get songs on historical hot-100 charts\n",
    "2. Get songs on spotify charts at same dates\n",
    "3. Get song features: track popularity, track gender, artist, artist popularity, \n",
    "4. Get audio features\n",
    "5. Run statistical analysis\n",
    "6. Apply Barabasi models"
   ]
  },
  {
   "cell_type": "code",
   "execution_count": 1,
   "metadata": {
    "collapsed": false
   },
   "outputs": [],
   "source": [
    "import billboard\n",
    "from spotipy.oauth2 import SpotifyClientCredentials\n",
    "import spotipy, json, glob, pprint\n",
    "import spotipy.util as util\n",
    "import datetime as dt\n",
    "import pandas as pd\n",
    "import numpy as np"
   ]
  },
  {
   "cell_type": "markdown",
   "metadata": {},
   "source": [
    "### collect data from billboard"
   ]
  },
  {
   "cell_type": "code",
   "execution_count": 2,
   "metadata": {
    "collapsed": true
   },
   "outputs": [],
   "source": [
    "def get_chart(chartName,date):\n",
    "    \"\"\"\n",
    "    chartName (str)\n",
    "    date (str): 'YYYY-MM-DD\n",
    "    \"\"\"\n",
    "    chart = billboard.ChartData(chartName, date)\n",
    "    tracks = parse_chart_data(chart)\n",
    "    return tracks\n",
    "\n",
    "def parse_chart_data(chart):\n",
    "    attributes = ['spotifyLink', 'peakPos', 'artist', 'lastPos', 'title', \n",
    "                  'rank', 'weeks', 'spotifyID', 'change']\n",
    "    tracks = []\n",
    "    for song in chart:\n",
    "        track = song.__dict__\n",
    "        track['date'] = chart.date\n",
    "        tracks.append(track)\n",
    "    return tracks\n",
    "\n",
    "def dump_json(filename,data):\n",
    "    with open(filename,'w') as f:\n",
    "        json.dump(data, f)\n",
    "        f.close()"
   ]
  },
  {
   "cell_type": "code",
   "execution_count": 29,
   "metadata": {
    "collapsed": false
   },
   "outputs": [
    {
     "name": "stdout",
     "output_type": "stream",
     "text": [
      "1   2   3   4   5   6   7   8   9   10   11   12  \n"
     ]
    }
   ],
   "source": [
    "## collect billboard chart data\n",
    "day = dt.datetime(2016,1,1)\n",
    "month = 0\n",
    "while day <= dt.datetime.today()-dt.timedelta(1):\n",
    "    if day.month != month:\n",
    "        month = day.month + 0\n",
    "        print month,' ',\n",
    "    if day.weekday() == 4:\n",
    "        date = str(day.date())\n",
    "        tracks = get_chart('hot-100',date)\n",
    "        dump_json('data/'+date+'.json',tracks)\n",
    "    day+=dt.timedelta(1)"
   ]
  },
  {
   "cell_type": "markdown",
   "metadata": {},
   "source": [
    "### collect from spotify\n",
    "Now that we have collected billboard data, we need to aggregate the dataset and acquire further details from spotify"
   ]
  },
  {
   "cell_type": "code",
   "execution_count": 3,
   "metadata": {
    "collapsed": true
   },
   "outputs": [],
   "source": [
    "def parse_track_data(trackObj):\n",
    "    \"\"\"\n",
    "    input:\n",
    "        track spotify instance\n",
    "    returns\n",
    "        spotifyID - str\n",
    "        trackPopularity - int\n",
    "        artistName - list of str\n",
    "        artistId - list of str\n",
    "        albumName - str\n",
    "        albumId - str\n",
    "        preview_url - str\n",
    "    \"\"\"\n",
    "    track = {}\n",
    "    track['trackId'] = trackObj['id']\n",
    "    track['trackPopularity'] = trackObj['popularity']\n",
    "    track['trackArtistId'] = map(lambda x:x['id'],trackObj['artists'])\n",
    "    track['trackArtistNum'] = len(track['trackArtistId'])\n",
    "    track['trackAlbumName'] = trackObj['album']['name']\n",
    "    track['trackAlbumId'] = trackObj['album']['id']\n",
    "    track['preview_url'] = trackObj['preview_url']\n",
    "    #track['trackPopularity'] = sp.search(track['trackId'])['tracks']['items']['popularity']\n",
    "    return track\n"
   ]
  },
  {
   "cell_type": "code",
   "execution_count": 4,
   "metadata": {
    "collapsed": false
   },
   "outputs": [],
   "source": [
    "files = glob.glob('data/2016*')\n",
    "tracks = []\n",
    "for filename in files:\n",
    "    with open(filename,'r') as f:\n",
    "        tracks.extend(json.load(f))\n",
    "data = pd.DataFrame(tracks)\n",
    "spotifyIds = data.spotifyID.unique()\n",
    "spotifyIds = filter(lambda x:x!='',spotifyIds)"
   ]
  },
  {
   "cell_type": "code",
   "execution_count": 5,
   "metadata": {
    "collapsed": false
   },
   "outputs": [
    {
     "name": "stdout",
     "output_type": "stream",
     "text": [
      ". . . . . . . . . . . . . . . . . . . . . . . . . . . . . . . . . . . . . . . . . . . . . . . . . . . . . . . . . . . . . . . . . . . . . . . . . . . . . . . . . . . . . . . . . . . . . . . . . . . . . . . . . . . . . . . . . . . . . . . . . . . . . . . . . . . . . . . . . . . . . . . . . . . . . . . . . . . . . . . . . . . . . . . . . . . . . . . . . . . . . . . . . . . . . . . . . . . . . . . . . . . . . . . . . . . . . . . . . . . . . . . . . . . . . . . . . . . . . . . . . . . . . . . . . . . . . . . . . . . . . . . . . . . . . . . . . . . . . . . . . . . . . . . . . . . . . . . . . . . . . . . . . . . . . . . . . . . . . . . . . . . . . . . . . . . . . . . . . . . . . . . . . . . . . . . . . . . . . . . . . . . . . . . . . . . . . . . . . . . . . . . . . . . . . . . . . . . . . . . . . . . . . . . . . . . . . . . . . . . . . . . . . . . . . . . . . . . . . . . . . . . . . . . . . . . . . . . . . . . . . . . . . . . . . . . . . . . . . . . . . . . . . . . . . . . .\n"
     ]
    }
   ],
   "source": [
    "sp = spotipy.Spotify()\n",
    "track_props = []\n",
    "cnt = 0\n",
    "limit = 50\n",
    "fetch = True\n",
    "while fetch:\n",
    "    results = sp.tracks(spotifyIds[cnt*limit:min((cnt+1)*limit,len(spotifyIds))])['tracks']\n",
    "    for track in results:\n",
    "        track_props.append(parse_track_data(track))\n",
    "        print '.',\n",
    "    cnt += 1\n",
    "    if len(results)<limit:\n",
    "        fetch = False\n",
    "dump_json('data/tracks_properties.json',track_props)"
   ]
  },
  {
   "cell_type": "markdown",
   "metadata": {},
   "source": [
    "Next, let's gather artist data. The track_props dataset has artist columns as a list of artists since multiple artists can feature on one song. We will first extract all artists in a single list and use spotipy to get data about unique artists"
   ]
  },
  {
   "cell_type": "code",
   "execution_count": 11,
   "metadata": {
    "collapsed": false
   },
   "outputs": [],
   "source": [
    "def parse_artist_data(artistObj):\n",
    "    \"\"\"\n",
    "    artistId - str\n",
    "    artistName - str\n",
    "    artistGenders - list of str\n",
    "    artistPopularity - int\n",
    "    artistFollowers - int\n",
    "    \n",
    "    \"\"\"\n",
    "    artist = {}\n",
    "    artist['artistId'] = artistObj['id']\n",
    "    artist['artistName'] = artistObj['name']\n",
    "    artist['artistGenres'] = artistObj['genres']\n",
    "    artist['artistPopularity'] = artistObj['popularity']\n",
    "    artist['artistFollowers'] = artistObj['followers']['total']\n",
    "    return artist"
   ]
  },
  {
   "cell_type": "code",
   "execution_count": 12,
   "metadata": {
    "collapsed": false
   },
   "outputs": [
    {
     "name": "stdout",
     "output_type": "stream",
     "text": [
      ". . . . . . . . . . . . . . . . . . . . . . . . . . . . . . . . . . . . . . . . . . . . . . . . . . . . . . . . . . . . . . . . . . . . . . . . . . . . . . . . . . . . . . . . . . . . . . . . . . . . . . . . . . . . . . . . . . . . . . . . . . . . . . . . . . . . . . . . . . . . . . . . . . . . . . . . . . . . . . . . . . . . . . . . . . . . . . . . . . . . . . . . . . . . . . . . . . . . . . . . . . . . . . . . . . . . . . . . . . . . . . . . . . . . . . . . . . . . . . . . . . . . . . . . . . . . . . . . . . . . . . . . . . . . . . . . . . . . . . . . . . . . . . . . . . . . . . . . . . . . . . . . . . . . . . . . . . . . . . . . . . . . . . . . . . . . . . . .\n"
     ]
    }
   ],
   "source": [
    "track_props_df = pd.DataFrame(track_props)\n",
    "artists_list = list(set(reduce(lambda x,y:x+y,track_props_df.trackArtistId.tolist())))\n",
    "artist_data = []\n",
    "cnt = 0\n",
    "limit = 50\n",
    "fetch = True\n",
    "while fetch:\n",
    "    results = sp.artists(artists_list[cnt*limit:min((cnt+1)*limit,len(artists_list))])['artists']\n",
    "    for artist in results:\n",
    "        artist_data.append(parse_artist_data(artist))\n",
    "        print '.',\n",
    "    cnt += 1\n",
    "    if len(results)<limit:\n",
    "        fetch = False\n",
    "dump_json('data/artists_data.json',artist_data)"
   ]
  },
  {
   "cell_type": "markdown",
   "metadata": {},
   "source": [
    "Next, let's gather tracks' audio features using spotipy. This is a feature that needs authentication token. We will first get authenticated using the client id and client secret together with the direct_uri as whitelisted on the app registration form."
   ]
  },
  {
   "cell_type": "code",
   "execution_count": null,
   "metadata": {
    "collapsed": true
   },
   "outputs": [],
   "source": [
    "#prep client credentials\n",
    "with open('credentials.json','r') as f:\n",
    "    credentials = json.load(f)\n",
    "    client_id = credentials['clientId']\n",
    "    client_secret = credentials['clientSecret']\n",
    "    token = credentials['token']\n",
    "    sCredentialsManager = SpotifyClientCredentials(client_id = credentials['clientId'],\n",
    "                                                    client_secret = credentials['clientSecret'])\n",
    "    f.close()\n",
    "    del credentials, f\n",
    "\n",
    "sp = spotipy.Spotify(client_credentials_manager = sCredentialsManager,auth = token)"
   ]
  },
  {
   "cell_type": "code",
   "execution_count": 270,
   "metadata": {
    "collapsed": true
   },
   "outputs": [],
   "source": [
    "def parse_audio_features(trackObj):\n",
    "    track = {}\n",
    "    attributes = [u'energy', u'liveness', u'tempo', u'speechiness', u'acousticness', u'instrumentalness', \n",
    "                  u'time_signature', u'danceability', u'key', u'duration_ms', u'loudness', u'valence', u'id', u'mode']\n",
    "    for attribute in attributes:\n",
    "        track['track'+attribute.capitalize()] = trackObj[attribute]\n",
    "    return track"
   ]
  },
  {
   "cell_type": "code",
   "execution_count": 272,
   "metadata": {
    "collapsed": false
   },
   "outputs": [],
   "source": [
    "#get data\n",
    "fetch = True\n",
    "cnt = 0\n",
    "limit = 50\n",
    "audio_features = []\n",
    "while fetch:\n",
    "    results = sp.audio_features(spotifyIds[cnt*limit:min((cnt+1)*limit,len(spotifyIds))])\n",
    "    results = map(lambda x:parse_audio_features(x),results)\n",
    "    audio_features.extend(results)\n",
    "    cnt += 1\n",
    "    if len(results)<limit:\n",
    "        fetch = False\n",
    "\n",
    "dump_json('data/audio_features.json',audio_features)"
   ]
  },
  {
   "cell_type": "code",
   "execution_count": 3,
   "metadata": {
    "collapsed": true
   },
   "outputs": [],
   "source": [
    "## Manual search for some songs without spotifyID"
   ]
  },
  {
   "cell_type": "code",
   "execution_count": 4,
   "metadata": {
    "collapsed": true
   },
   "outputs": [],
   "source": [
    "sp = spotipy.Spotify()"
   ]
  },
  {
   "cell_type": "code",
   "execution_count": 20,
   "metadata": {
    "collapsed": true
   },
   "outputs": [],
   "source": [
    "#r = sp.search()\n",
    "r = sp.search('Wildest Dreams')['tracks']['items']"
   ]
  },
  {
   "cell_type": "code",
   "execution_count": null,
   "metadata": {
    "collapsed": true
   },
   "outputs": [],
   "source": []
  }
 ],
 "metadata": {
  "kernelspec": {
   "display_name": "Python 2",
   "language": "python",
   "name": "python2"
  },
  "language_info": {
   "codemirror_mode": {
    "name": "ipython",
    "version": 2
   },
   "file_extension": ".py",
   "mimetype": "text/x-python",
   "name": "python",
   "nbconvert_exporter": "python",
   "pygments_lexer": "ipython2",
   "version": "2.7.10"
  }
 },
 "nbformat": 4,
 "nbformat_minor": 0
}
